{
 "cells": [
  {
   "cell_type": "code",
   "execution_count": 6,
   "id": "a22349b3-0d9d-4213-a30d-a23609894f06",
   "metadata": {},
   "outputs": [
    {
     "name": "stdout",
     "output_type": "stream",
     "text": [
      "Collecting corner\n",
      "  Downloading corner-2.2.2-py3-none-any.whl.metadata (2.2 kB)\n",
      "Requirement already satisfied: matplotlib>=2.1 in c:\\users\\icest\\anaconda3\\lib\\site-packages (from corner) (3.8.0)\n",
      "Requirement already satisfied: contourpy>=1.0.1 in c:\\users\\icest\\anaconda3\\lib\\site-packages (from matplotlib>=2.1->corner) (1.2.0)\n",
      "Requirement already satisfied: cycler>=0.10 in c:\\users\\icest\\anaconda3\\lib\\site-packages (from matplotlib>=2.1->corner) (0.11.0)\n",
      "Requirement already satisfied: fonttools>=4.22.0 in c:\\users\\icest\\anaconda3\\lib\\site-packages (from matplotlib>=2.1->corner) (4.25.0)\n",
      "Requirement already satisfied: kiwisolver>=1.0.1 in c:\\users\\icest\\anaconda3\\lib\\site-packages (from matplotlib>=2.1->corner) (1.4.4)\n",
      "Requirement already satisfied: numpy<2,>=1.21 in c:\\users\\icest\\anaconda3\\lib\\site-packages (from matplotlib>=2.1->corner) (1.26.4)\n",
      "Requirement already satisfied: packaging>=20.0 in c:\\users\\icest\\anaconda3\\lib\\site-packages (from matplotlib>=2.1->corner) (23.1)\n",
      "Requirement already satisfied: pillow>=6.2.0 in c:\\users\\icest\\anaconda3\\lib\\site-packages (from matplotlib>=2.1->corner) (10.2.0)\n",
      "Requirement already satisfied: pyparsing>=2.3.1 in c:\\users\\icest\\anaconda3\\lib\\site-packages (from matplotlib>=2.1->corner) (3.0.9)\n",
      "Requirement already satisfied: python-dateutil>=2.7 in c:\\users\\icest\\anaconda3\\lib\\site-packages (from matplotlib>=2.1->corner) (2.8.2)\n",
      "Requirement already satisfied: six>=1.5 in c:\\users\\icest\\anaconda3\\lib\\site-packages (from python-dateutil>=2.7->matplotlib>=2.1->corner) (1.16.0)\n",
      "Downloading corner-2.2.2-py3-none-any.whl (15 kB)\n",
      "Installing collected packages: corner\n",
      "Successfully installed corner-2.2.2\n"
     ]
    }
   ],
   "source": [
    "# !pip install pytransit\n",
    "# !pip install arviz\n",
    "# !pip install celerite\n",
    "# !pip install emcee\n",
    "# !pip install corner\n",
    "\n",
    "\n"
   ]
  },
  {
   "cell_type": "code",
   "execution_count": 7,
   "id": "117eebae-d7af-40a1-b842-b55d799b4d7a",
   "metadata": {},
   "outputs": [
    {
     "ename": "NameError",
     "evalue": "name 'times' is not defined",
     "output_type": "error",
     "traceback": [
      "\u001b[1;31m---------------------------------------------------------------------------\u001b[0m",
      "\u001b[1;31mNameError\u001b[0m                                 Traceback (most recent call last)",
      "Cell \u001b[1;32mIn[7], line 3\u001b[0m\n\u001b[0;32m      1\u001b[0m \u001b[38;5;28;01mfrom\u001b[39;00m \u001b[38;5;21;01mpytransit\u001b[39;00m \u001b[38;5;28;01mimport\u001b[39;00m RoadRunnerModel\n\u001b[0;32m      2\u001b[0m tm \u001b[38;5;241m=\u001b[39m RoadRunnerModel(\u001b[38;5;124m'\u001b[39m\u001b[38;5;124mquadratic\u001b[39m\u001b[38;5;124m'\u001b[39m)\n\u001b[1;32m----> 3\u001b[0m tm\u001b[38;5;241m.\u001b[39mset_data(times)\n\u001b[0;32m      5\u001b[0m tm\u001b[38;5;241m.\u001b[39mevaluate(k\u001b[38;5;241m=\u001b[39m\u001b[38;5;241m0.1\u001b[39m, ldc\u001b[38;5;241m=\u001b[39m[\u001b[38;5;241m0.2\u001b[39m, \u001b[38;5;241m0.1\u001b[39m], t0\u001b[38;5;241m=\u001b[39m\u001b[38;5;241m0.0\u001b[39m, p\u001b[38;5;241m=\u001b[39m\u001b[38;5;241m1.0\u001b[39m, a\u001b[38;5;241m=\u001b[39m\u001b[38;5;241m3.0\u001b[39m, i\u001b[38;5;241m=\u001b[39m\u001b[38;5;241m0.5\u001b[39m\u001b[38;5;241m*\u001b[39mpi)\n\u001b[0;32m      7\u001b[0m tm\u001b[38;5;241m.\u001b[39mevaluate(k\u001b[38;5;241m=\u001b[39m[\u001b[38;5;241m0.10\u001b[39m, \u001b[38;5;241m0.12\u001b[39m], ldc\u001b[38;5;241m=\u001b[39m[[\u001b[38;5;241m0.2\u001b[39m, \u001b[38;5;241m0.1\u001b[39m], [\u001b[38;5;241m0.5\u001b[39m, \u001b[38;5;241m0.1\u001b[39m]], t0\u001b[38;5;241m=\u001b[39m\u001b[38;5;241m0.0\u001b[39m, p\u001b[38;5;241m=\u001b[39m\u001b[38;5;241m1.0\u001b[39m, a\u001b[38;5;241m=\u001b[39m\u001b[38;5;241m3.0\u001b[39m, i\u001b[38;5;241m=\u001b[39m\u001b[38;5;241m0.5\u001b[39m\u001b[38;5;241m*\u001b[39mpi)\n",
      "\u001b[1;31mNameError\u001b[0m: name 'times' is not defined"
     ]
    }
   ],
   "source": [
    "from pytransit import RoadRunnerModel"
   ]
  },
  {
   "cell_type": "code",
   "execution_count": 21,
   "id": "15a9a719-dc16-49fd-814e-86e8f479d972",
   "metadata": {},
   "outputs": [],
   "source": [
    "import os\n",
    "import pandas as pd\n",
    "import matplotlib.pyplot as plt\n",
    "from pytransit import QuadraticModel\n",
    "import numpy as np\n"
   ]
  },
  {
   "cell_type": "code",
   "execution_count": 85,
   "id": "30c2ed9c-7c6b-4fef-9b8d-5605b1b9efcf",
   "metadata": {},
   "outputs": [
    {
     "data": {
      "image/png": "[encoded data removed]",
      "text/plain": [
       "<Figure size 640x480 with 1 Axes>"
      ]
     },
     "metadata": {},
     "output_type": "display_data"
    }
   ],
   "source": [
    "\n",
    "# Generate x values\n",
    "\n",
    "# Define the equation of the parabola (y = ax^2 + bx + c)\n",
    "areaOfShip = -0.004\n",
    "dataFrequency = 30\n",
    "\n",
    "a = areaOfShip/((20*dataFrequency)**2)  # assuming length of Ship is 20*30 units long\n",
    "normalizedFlux = 1  # constant term\n",
    "lengthOfInterval = [5, 25, 33, 53, 61, 81, 86, 96]\n",
    "\n",
    "\n",
    "# [] 5\n",
    "numberOfPoints = lengthOfInterval[0]\n",
    "x_a = np.linspace(0, lengthOfInterval[0] *dataFrequency, numberOfPoints)\n",
    "y_a_noBlur =  x_a * 0 +  normalizedFlux \n",
    "y_a = y_a_noBlur + np.random.normal(scale=0.0001, size=numberOfPoints)\n",
    "plt.scatter(x_a, y_a, marker='o', color='b', s=5)\n",
    "plt.plot(x_a,  y_a_noBlur)\n",
    "\n",
    "# 20 a(x)  ship 1 ingress \n",
    "\n",
    "numberOfPoints = lengthOfInterval[1]-lengthOfInterval[0]\n",
    "begTime = (lengthOfInterval[0] + 1) * dataFrequency\n",
    "endTime = lengthOfInterval[1] * dataFrequency\n",
    "x_b = np.linspace(begTime, endTime, numberOfPoints)\n",
    "y_b_noBlur = normalizedFlux+ a* (x_b - begTime)**2\n",
    "y_b = y_b_noBlur + np.random.normal(scale=0.0001, size=numberOfPoints)\n",
    "plt.scatter(x_b, y_b, marker='o', color='b', s=5)\n",
    "# plt.plot(x_b,  y_b_noBlur)\n",
    "\n",
    "\n",
    "# 8 A Full Transit\n",
    "numberOfPoints = lengthOfInterval[2]-lengthOfInterval[1]\n",
    "begTime = (lengthOfInterval[1] + 1) * dataFrequency\n",
    "endTime = (lengthOfInterval[2]) * dataFrequency\n",
    "x_c = np.linspace(begTime, endTime, numberOfPoints)\n",
    "y_c_noBlur = x_c* 0 + normalizedFlux + areaOfShip\n",
    "y_c = y_c_noBlur + np.random.normal(scale=0.0001, size=numberOfPoints)\n",
    "plt.scatter(x_c, y_c, marker='o', color='b', s=5)\n",
    "# plt.plot(x_c,  y_c_noBlur)\n",
    "\n",
    "# A b(x) 20 \n",
    "\n",
    "numberOfPoints = lengthOfInterval[3]-lengthOfInterval[2]\n",
    "begTime = (lengthOfInterval[2] + 1) * dataFrequency\n",
    "endTime = lengthOfInterval[3] * dataFrequency\n",
    "x_d = np.linspace(begTime, endTime, numberOfPoints)\n",
    "y_d_noBlur = normalizedFlux + areaOfShip + a * (x_d - begTime)**2\n",
    "y_d = y_d_noBlur + np.random.normal(scale=0.0001, size=numberOfPoints)\n",
    "plt.scatter(x_d, y_d, marker='o', color='b', s=5)\n",
    "# plt.plot(x_d,  y_d_noBlur)\n",
    "\n",
    "# e -  A B 8\n",
    "numberOfPoints = lengthOfInterval[4]-lengthOfInterval[3]\n",
    "begTime = (lengthOfInterval[3] + 1) * dataFrequency\n",
    "endTime = (lengthOfInterval[4]) * dataFrequency\n",
    "x_e = np.linspace(begTime, endTime, numberOfPoints)\n",
    "y_e_noBlur = x_e* 0 + normalizedFlux + areaOfShip*2\n",
    "y_e = y_e_noBlur + np.random.normal(scale=0.0001, size=numberOfPoints)\n",
    "plt.scatter(x_e, y_e, marker='o', color='b', s=5)\n",
    "# plt.plot(x_e,  y_e_noBlur)\n",
    "\n",
    "# A B c(x) 20 \n",
    "\n",
    "numberOfPoints = lengthOfInterval[5]-lengthOfInterval[4]\n",
    "begTime = (lengthOfInterval[4] + 1) * dataFrequency\n",
    "endTime = lengthOfInterval[5] * dataFrequency\n",
    "x_f = np.linspace(begTime, endTime, numberOfPoints)\n",
    "y_f_noBlur = normalizedFlux + areaOfShip*2 + a * (x_f - begTime)**2\n",
    "y_f = y_f_noBlur + np.random.normal(scale=0.0001, size=numberOfPoints)\n",
    "plt.scatter(x_f, y_f, marker='o', color='b', s=5)\n",
    "# plt.plot(x_f,  y_f_noBlur)\n",
    "\n",
    "# A B C 5\n",
    "\n",
    "numberOfPoints = lengthOfInterval[6]-lengthOfInterval[5]\n",
    "begTime = (lengthOfInterval[5] + 1) * dataFrequency\n",
    "endTime = (lengthOfInterval[6]) * dataFrequency\n",
    "x_g = np.linspace(begTime, endTime, numberOfPoints)\n",
    "y_g_noBlur = x_g* 0 + normalizedFlux + areaOfShip*3\n",
    "y_g = y_g_noBlur + np.random.normal(scale=0.0001, size=numberOfPoints)\n",
    "plt.scatter(x_g, y_g, marker='o', color='b', s=5)\n",
    "# plt.plot(x_g,  y_g_noBlur)\n",
    "\n",
    "# [] 10\n",
    "\n",
    "# Plot the parabola\n",
    "# plt.plot(x,  y)\n",
    "# plt.scatter(x, y_data, marker='o', color='b', s=5)\n",
    "numberOfPoints = lengthOfInterval[7]-lengthOfInterval[6]\n",
    "begTime = (lengthOfInterval[6] + 1) * dataFrequency\n",
    "endTime = (lengthOfInterval[7]) * dataFrequency\n",
    "x_h = np.linspace(begTime, endTime, numberOfPoints)\n",
    "y_h_noBlur = x_h* 0 + normalizedFlux\n",
    "y_h = y_h_noBlur + np.random.normal(scale=0.0001, size=numberOfPoints)\n",
    "plt.scatter(x_h, y_h, marker='o', color='b', s=5)\n",
    "# plt.plot(x_h,  y_h_noBlur)\n",
    "\n",
    "\n",
    "# Add labels and title\n",
    "plt.xlabel('Time (minutes)')\n",
    "plt.ylabel('Flux')\n",
    "plt.title('Light Curve of Kepler 9')\n",
    "\n",
    "# Show the plot\n",
    "plt.grid(True)\n",
    "plt.show()\n"
   ]
  },
  {
   "cell_type": "code",
   "execution_count": 84,
   "id": "0d2e34df-cec7-4319-864c-1f55a329e090",
   "metadata": {},
   "outputs": [],
   "source": [
    "data_path = \"./data/hlsp_exo_kepler_phot_KPLR10874614_kep_v1.0_dtr.txt\"\n",
    "data = pd.read_csv(data_path, sep=\"\\s+\", comment='#')\n",
    "listData = list(data.itertuples(index=False, name=None))\n",
    "\n",
    "tm = QuadraticModel()\n",
    "tm.set_data(listData)\n",
    "\n",
    "\n",
    "\n",
    "# plt.scatter(data.HJD, data.Detr_Norm_Flux)\n"
   ]
  },
  {
   "cell_type": "code",
   "execution_count": 15,
   "id": "cb2db1a0-4dcc-45f2-b0f4-916194e3736b",
   "metadata": {},
   "outputs": [
    {
     "data": {
      "text/html": [
       "<div>\n",
       "<style scoped>\n",
       "    .dataframe tbody tr th:only-of-type {\n",
       "        vertical-align: middle;\n",
       "    }\n",
       "\n",
       "    .dataframe tbody tr th {\n",
       "        vertical-align: top;\n",
       "    }\n",
       "\n",
       "    .dataframe thead th {\n",
       "        text-align: right;\n",
       "    }\n",
       "</style>\n",
       "<table border=\"1\" class=\"dataframe\">\n",
       "  <thead>\n",
       "    <tr style=\"text-align: right;\">\n",
       "      <th></th>\n",
       "      <th>HJD</th>\n",
       "      <th>Detr_Norm_Flux</th>\n",
       "    </tr>\n",
       "  </thead>\n",
       "  <tbody>\n",
       "    <tr>\n",
       "      <th>0</th>\n",
       "      <td>2.454954e+06</td>\n",
       "      <td>1.000068</td>\n",
       "    </tr>\n",
       "    <tr>\n",
       "      <th>1</th>\n",
       "      <td>2.454954e+06</td>\n",
       "      <td>0.999986</td>\n",
       "    </tr>\n",
       "    <tr>\n",
       "      <th>2</th>\n",
       "      <td>2.454954e+06</td>\n",
       "      <td>0.999977</td>\n",
       "    </tr>\n",
       "    <tr>\n",
       "      <th>3</th>\n",
       "      <td>2.454954e+06</td>\n",
       "      <td>0.999826</td>\n",
       "    </tr>\n",
       "    <tr>\n",
       "      <th>4</th>\n",
       "      <td>2.454954e+06</td>\n",
       "      <td>0.999816</td>\n",
       "    </tr>\n",
       "    <tr>\n",
       "      <th>...</th>\n",
       "      <td>...</td>\n",
       "      <td>...</td>\n",
       "    </tr>\n",
       "    <tr>\n",
       "      <th>2097</th>\n",
       "      <td>2.454998e+06</td>\n",
       "      <td>0.999873</td>\n",
       "    </tr>\n",
       "    <tr>\n",
       "      <th>2098</th>\n",
       "      <td>2.454998e+06</td>\n",
       "      <td>0.999751</td>\n",
       "    </tr>\n",
       "    <tr>\n",
       "      <th>2099</th>\n",
       "      <td>2.454998e+06</td>\n",
       "      <td>0.999575</td>\n",
       "    </tr>\n",
       "    <tr>\n",
       "      <th>2100</th>\n",
       "      <td>2.454998e+06</td>\n",
       "      <td>0.999855</td>\n",
       "    </tr>\n",
       "    <tr>\n",
       "      <th>2101</th>\n",
       "      <td>2.454998e+06</td>\n",
       "      <td>0.999811</td>\n",
       "    </tr>\n",
       "  </tbody>\n",
       "</table>\n",
       "<p>2102 rows × 2 columns</p>\n",
       "</div>"
      ],
      "text/plain": [
       "               HJD  Detr_Norm_Flux\n",
       "0     2.454954e+06        1.000068\n",
       "1     2.454954e+06        0.999986\n",
       "2     2.454954e+06        0.999977\n",
       "3     2.454954e+06        0.999826\n",
       "4     2.454954e+06        0.999816\n",
       "...            ...             ...\n",
       "2097  2.454998e+06        0.999873\n",
       "2098  2.454998e+06        0.999751\n",
       "2099  2.454998e+06        0.999575\n",
       "2100  2.454998e+06        0.999855\n",
       "2101  2.454998e+06        0.999811\n",
       "\n",
       "[2102 rows x 2 columns]"
      ]
     },
     "execution_count": 15,
     "metadata": {},
     "output_type": "execute_result"
    }
   ],
   "source": [
    "data"
   ]
  },
  {
   "cell_type": "code",
   "execution_count": 10,
   "id": "670596fd-b896-40ba-9280-3d86c9a2a233",
   "metadata": {},
   "outputs": [
    {
     "data": {
      "text/plain": [
       "-176.5497599999996"
      ]
     },
     "execution_count": 10,
     "metadata": {},
     "output_type": "execute_result"
    }
   ],
   "source": [
    "(0.558809 - .579243) * 24 * 360\n"
   ]
  },
  {
   "cell_type": "code",
   "execution_count": null,
   "id": "8f019b3c-344a-49af-be85-7de8cb4278e6",
   "metadata": {},
   "outputs": [],
   "source": [
    "import numpy as np\n",
    "import matplotlib.pyplot as plt"
   ]
  }
 ],
 "metadata": {
  "kernelspec": {
   "display_name": "Python 3 (ipykernel)",
   "language": "python",
   "name": "python3"
  },
  "language_info": {
   "codemirror_mode": {
    "name": "ipython",
    "version": 3
   },
   "file_extension": ".py",
   "mimetype": "text/x-python",
   "name": "python",
   "nbconvert_exporter": "python",
   "pygments_lexer": "ipython3",
   "version": "3.11.7"
  }
 },
 "nbformat": 4,
 "nbformat_minor": 5
}
